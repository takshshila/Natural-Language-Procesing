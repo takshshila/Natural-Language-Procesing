{
  "nbformat": 4,
  "nbformat_minor": 0,
  "metadata": {
    "accelerator": "GPU",
    "colab": {
      "name": "Copy of Course 3 - Week 3 - Lesson 2.ipynb",
      "provenance": [],
      "collapsed_sections": []
    },
    "kernelspec": {
      "display_name": "Python 3",
      "name": "python3"
    }
  },
  "cells": [
    {
      "cell_type": "code",
      "metadata": {
        "id": "zX4Kg8DUTKWO",
        "colab_type": "code",
        "colab": {}
      },
      "source": [
        "#@title Licensed under the Apache License, Version 2.0 (the \"License\");\n",
        "# you may not use this file except in compliance with the License.\n",
        "# You may obtain a copy of the License at\n",
        "#\n",
        "# https://www.apache.org/licenses/LICENSE-2.0\n",
        "#\n",
        "# Unless required by applicable law or agreed to in writing, software\n",
        "# distributed under the License is distributed on an \"AS IS\" BASIS,\n",
        "# WITHOUT WARRANTIES OR CONDITIONS OF ANY KIND, either express or implied.\n",
        "# See the License for the specific language governing permissions and\n",
        "# limitations under the License."
      ],
      "execution_count": 0,
      "outputs": []
    },
    {
      "cell_type": "code",
      "metadata": {
        "colab_type": "code",
        "id": "jGwXGIXvFhXW",
        "outputId": "6edba93b-3cfd-4532-dbc1-fc9dfe7afe09",
        "colab": {
          "base_uri": "https://localhost:8080/",
          "height": 1000
        }
      },
      "source": [
        "import json\n",
        "import tensorflow as tf\n",
        "import numpy as np\n",
        "\n",
        "from tensorflow.keras.preprocessing.text import Tokenizer\n",
        "from tensorflow.keras.preprocessing.sequence import pad_sequences\n",
        "\n",
        "!wget --no-check-certificate \\\n",
        "    https://storage.googleapis.com/laurencemoroney-blog.appspot.com/sarcasm.json \\\n",
        "    -O /tmp/sarcasm.json\n",
        "\n",
        "vocab_size = 1000\n",
        "embedding_dim = 16\n",
        "max_length = 120\n",
        "trunc_type='post'\n",
        "padding_type='post'\n",
        "oov_tok = \"<OOV>\"\n",
        "training_size = 20000\n",
        "\n",
        "\n",
        "with open(\"/tmp/sarcasm.json\", 'r') as f:\n",
        "    datastore = json.load(f)\n",
        "\n",
        "\n",
        "sentences = []\n",
        "labels = []\n",
        "urls = []\n",
        "for item in datastore:\n",
        "    sentences.append(item['headline'])\n",
        "    labels.append(item['is_sarcastic'])\n",
        "\n",
        "training_sentences = sentences[0:training_size]\n",
        "testing_sentences = sentences[training_size:]\n",
        "training_labels = labels[0:training_size]\n",
        "testing_labels = labels[training_size:]\n",
        "\n",
        "tokenizer = Tokenizer(num_words=vocab_size, oov_token=oov_tok)\n",
        "tokenizer.fit_on_texts(training_sentences)\n",
        "\n",
        "word_index = tokenizer.word_index\n",
        "\n",
        "training_sequences = tokenizer.texts_to_sequences(training_sentences)\n",
        "training_padded = pad_sequences(training_sequences, maxlen=max_length, padding=padding_type, truncating=trunc_type)\n",
        "\n",
        "testing_sequences = tokenizer.texts_to_sequences(testing_sentences)\n",
        "testing_padded = pad_sequences(testing_sequences, maxlen=max_length, padding=padding_type, truncating=trunc_type)\n",
        "\n",
        "model = tf.keras.Sequential([\n",
        "    tf.keras.layers.Embedding(vocab_size, embedding_dim, input_length=max_length),\n",
        "    tf.keras.layers.Bidirectional(tf.keras.layers.LSTM(32)),\n",
        "    tf.keras.layers.Dense(24, activation='relu'),\n",
        "    tf.keras.layers.Dense(1, activation='sigmoid')\n",
        "])\n",
        "model.compile(loss='binary_crossentropy',optimizer='adam',metrics=['accuracy'])\n",
        "model.summary()\n",
        "\n",
        "num_epochs = 50\n",
        "training_padded = np.array(training_padded)\n",
        "training_labels = np.array(training_labels)\n",
        "testing_padded = np.array(testing_padded)\n",
        "testing_labels = np.array(testing_labels)\n",
        "history = model.fit(training_padded, training_labels, epochs=num_epochs, validation_data=(testing_padded, testing_labels), verbose=1)\n"
      ],
      "execution_count": 0,
      "outputs": [
        {
          "output_type": "stream",
          "text": [
            "--2020-06-09 01:24:52--  https://storage.googleapis.com/laurencemoroney-blog.appspot.com/sarcasm.json\n",
            "Resolving storage.googleapis.com (storage.googleapis.com)... 64.233.189.128, 2404:6800:4008:c01::80\n",
            "Connecting to storage.googleapis.com (storage.googleapis.com)|64.233.189.128|:443... connected.\n",
            "HTTP request sent, awaiting response... 200 OK\n",
            "Length: 5643545 (5.4M) [application/json]\n",
            "Saving to: ‘/tmp/sarcasm.json’\n",
            "\n",
            "\r/tmp/sarcasm.json     0%[                    ]       0  --.-KB/s               \r/tmp/sarcasm.json   100%[===================>]   5.38M  --.-KB/s    in 0.04s   \n",
            "\n",
            "2020-06-09 01:24:52 (137 MB/s) - ‘/tmp/sarcasm.json’ saved [5643545/5643545]\n",
            "\n",
            "Model: \"sequential_1\"\n",
            "_________________________________________________________________\n",
            "Layer (type)                 Output Shape              Param #   \n",
            "=================================================================\n",
            "embedding_1 (Embedding)      (None, 120, 16)           16000     \n",
            "_________________________________________________________________\n",
            "bidirectional_1 (Bidirection (None, 64)                12544     \n",
            "_________________________________________________________________\n",
            "dense_2 (Dense)              (None, 24)                1560      \n",
            "_________________________________________________________________\n",
            "dense_3 (Dense)              (None, 1)                 25        \n",
            "=================================================================\n",
            "Total params: 30,129\n",
            "Trainable params: 30,129\n",
            "Non-trainable params: 0\n",
            "_________________________________________________________________\n",
            "Epoch 1/50\n",
            "625/625 [==============================] - 10s 17ms/step - loss: 0.4465 - accuracy: 0.7782 - val_loss: 0.3832 - val_accuracy: 0.8241\n",
            "Epoch 2/50\n",
            "625/625 [==============================] - 10s 15ms/step - loss: 0.3507 - accuracy: 0.8403 - val_loss: 0.3720 - val_accuracy: 0.8305\n",
            "Epoch 3/50\n",
            "625/625 [==============================] - 10s 15ms/step - loss: 0.3272 - accuracy: 0.8540 - val_loss: 0.3694 - val_accuracy: 0.8348\n",
            "Epoch 4/50\n",
            "625/625 [==============================] - 10s 15ms/step - loss: 0.3096 - accuracy: 0.8640 - val_loss: 0.3756 - val_accuracy: 0.8308\n",
            "Epoch 5/50\n",
            "625/625 [==============================] - 9s 15ms/step - loss: 0.2973 - accuracy: 0.8673 - val_loss: 0.3790 - val_accuracy: 0.8304\n",
            "Epoch 6/50\n",
            "625/625 [==============================] - 10s 15ms/step - loss: 0.2881 - accuracy: 0.8737 - val_loss: 0.3791 - val_accuracy: 0.8307\n",
            "Epoch 7/50\n",
            "625/625 [==============================] - 9s 15ms/step - loss: 0.2800 - accuracy: 0.8805 - val_loss: 0.3829 - val_accuracy: 0.8295\n",
            "Epoch 8/50\n",
            "625/625 [==============================] - 10s 15ms/step - loss: 0.2725 - accuracy: 0.8827 - val_loss: 0.3843 - val_accuracy: 0.8323\n",
            "Epoch 9/50\n",
            "625/625 [==============================] - 10s 15ms/step - loss: 0.2673 - accuracy: 0.8855 - val_loss: 0.3850 - val_accuracy: 0.8323\n",
            "Epoch 10/50\n",
            "625/625 [==============================] - 9s 15ms/step - loss: 0.2598 - accuracy: 0.8885 - val_loss: 0.4066 - val_accuracy: 0.8271\n",
            "Epoch 11/50\n",
            "625/625 [==============================] - 9s 15ms/step - loss: 0.2525 - accuracy: 0.8908 - val_loss: 0.4464 - val_accuracy: 0.8185\n",
            "Epoch 12/50\n",
            "625/625 [==============================] - 9s 15ms/step - loss: 0.2469 - accuracy: 0.8938 - val_loss: 0.4252 - val_accuracy: 0.8216\n",
            "Epoch 13/50\n",
            "625/625 [==============================] - 9s 15ms/step - loss: 0.2372 - accuracy: 0.8972 - val_loss: 0.4457 - val_accuracy: 0.8261\n",
            "Epoch 14/50\n",
            "625/625 [==============================] - 10s 16ms/step - loss: 0.2296 - accuracy: 0.9017 - val_loss: 0.4592 - val_accuracy: 0.8225\n",
            "Epoch 15/50\n",
            "625/625 [==============================] - 10s 15ms/step - loss: 0.2226 - accuracy: 0.9032 - val_loss: 0.4481 - val_accuracy: 0.8183\n",
            "Epoch 16/50\n",
            "625/625 [==============================] - 10s 15ms/step - loss: 0.2144 - accuracy: 0.9087 - val_loss: 0.4709 - val_accuracy: 0.8198\n",
            "Epoch 17/50\n",
            "625/625 [==============================] - 10s 16ms/step - loss: 0.2062 - accuracy: 0.9128 - val_loss: 0.5009 - val_accuracy: 0.8195\n",
            "Epoch 18/50\n",
            "625/625 [==============================] - 10s 15ms/step - loss: 0.1980 - accuracy: 0.9162 - val_loss: 0.5490 - val_accuracy: 0.8103\n",
            "Epoch 19/50\n",
            "625/625 [==============================] - 10s 15ms/step - loss: 0.1920 - accuracy: 0.9186 - val_loss: 0.5588 - val_accuracy: 0.8117\n",
            "Epoch 20/50\n",
            "625/625 [==============================] - 10s 15ms/step - loss: 0.1868 - accuracy: 0.9222 - val_loss: 0.5463 - val_accuracy: 0.8126\n",
            "Epoch 21/50\n",
            "625/625 [==============================] - 10s 15ms/step - loss: 0.1805 - accuracy: 0.9247 - val_loss: 0.5947 - val_accuracy: 0.8119\n",
            "Epoch 22/50\n",
            "625/625 [==============================] - 10s 15ms/step - loss: 0.1726 - accuracy: 0.9282 - val_loss: 0.6528 - val_accuracy: 0.8098\n",
            "Epoch 23/50\n",
            "625/625 [==============================] - 10s 15ms/step - loss: 0.1677 - accuracy: 0.9304 - val_loss: 0.6631 - val_accuracy: 0.8074\n",
            "Epoch 24/50\n",
            "625/625 [==============================] - 10s 16ms/step - loss: 0.1603 - accuracy: 0.9358 - val_loss: 0.6901 - val_accuracy: 0.8077\n",
            "Epoch 25/50\n",
            "625/625 [==============================] - 10s 16ms/step - loss: 0.1536 - accuracy: 0.9381 - val_loss: 0.7214 - val_accuracy: 0.8031\n",
            "Epoch 26/50\n",
            "625/625 [==============================] - 10s 16ms/step - loss: 0.1523 - accuracy: 0.9379 - val_loss: 0.7376 - val_accuracy: 0.8059\n",
            "Epoch 27/50\n",
            "625/625 [==============================] - 10s 15ms/step - loss: 0.1418 - accuracy: 0.9426 - val_loss: 0.7429 - val_accuracy: 0.8034\n",
            "Epoch 28/50\n",
            "625/625 [==============================] - 10s 16ms/step - loss: 0.1401 - accuracy: 0.9451 - val_loss: 0.7839 - val_accuracy: 0.8030\n",
            "Epoch 29/50\n",
            "625/625 [==============================] - 10s 16ms/step - loss: 0.1351 - accuracy: 0.9455 - val_loss: 0.7466 - val_accuracy: 0.8018\n",
            "Epoch 30/50\n",
            "625/625 [==============================] - 10s 16ms/step - loss: 0.1283 - accuracy: 0.9482 - val_loss: 0.8066 - val_accuracy: 0.8046\n",
            "Epoch 31/50\n",
            "625/625 [==============================] - 10s 15ms/step - loss: 0.1251 - accuracy: 0.9491 - val_loss: 0.8954 - val_accuracy: 0.8028\n",
            "Epoch 32/50\n",
            "625/625 [==============================] - 10s 16ms/step - loss: 0.1191 - accuracy: 0.9524 - val_loss: 0.9332 - val_accuracy: 0.7985\n",
            "Epoch 33/50\n",
            "625/625 [==============================] - 10s 16ms/step - loss: 0.1128 - accuracy: 0.9545 - val_loss: 0.9101 - val_accuracy: 0.7991\n",
            "Epoch 34/50\n",
            "625/625 [==============================] - 10s 16ms/step - loss: 0.1134 - accuracy: 0.9542 - val_loss: 0.9715 - val_accuracy: 0.7948\n",
            "Epoch 35/50\n",
            "625/625 [==============================] - 10s 16ms/step - loss: 0.1074 - accuracy: 0.9566 - val_loss: 0.9887 - val_accuracy: 0.7958\n",
            "Epoch 36/50\n",
            "625/625 [==============================] - 10s 16ms/step - loss: 0.0981 - accuracy: 0.9619 - val_loss: 1.0373 - val_accuracy: 0.7986\n",
            "Epoch 37/50\n",
            "625/625 [==============================] - 10s 16ms/step - loss: 0.1014 - accuracy: 0.9595 - val_loss: 1.0842 - val_accuracy: 0.7949\n",
            "Epoch 38/50\n",
            "625/625 [==============================] - 10s 16ms/step - loss: 0.0935 - accuracy: 0.9629 - val_loss: 1.1185 - val_accuracy: 0.8007\n",
            "Epoch 39/50\n",
            "625/625 [==============================] - 10s 15ms/step - loss: 0.0896 - accuracy: 0.9649 - val_loss: 1.1833 - val_accuracy: 0.8030\n",
            "Epoch 40/50\n",
            "625/625 [==============================] - 10s 16ms/step - loss: 0.0881 - accuracy: 0.9638 - val_loss: 1.1827 - val_accuracy: 0.8044\n",
            "Epoch 41/50\n",
            "625/625 [==============================] - 10s 16ms/step - loss: 0.0879 - accuracy: 0.9650 - val_loss: 1.1532 - val_accuracy: 0.7997\n",
            "Epoch 42/50\n",
            "625/625 [==============================] - 10s 16ms/step - loss: 0.0814 - accuracy: 0.9668 - val_loss: 1.2493 - val_accuracy: 0.8015\n",
            "Epoch 43/50\n",
            "625/625 [==============================] - 10s 16ms/step - loss: 0.0772 - accuracy: 0.9696 - val_loss: 1.2806 - val_accuracy: 0.7974\n",
            "Epoch 44/50\n",
            "625/625 [==============================] - 10s 16ms/step - loss: 0.0706 - accuracy: 0.9722 - val_loss: 1.3589 - val_accuracy: 0.7922\n",
            "Epoch 45/50\n",
            "625/625 [==============================] - 10s 16ms/step - loss: 0.0719 - accuracy: 0.9722 - val_loss: 1.3947 - val_accuracy: 0.7952\n",
            "Epoch 46/50\n",
            "625/625 [==============================] - 10s 16ms/step - loss: 0.0683 - accuracy: 0.9716 - val_loss: 1.3777 - val_accuracy: 0.7988\n",
            "Epoch 47/50\n",
            "625/625 [==============================] - 10s 16ms/step - loss: 0.0722 - accuracy: 0.9704 - val_loss: 1.3110 - val_accuracy: 0.7965\n",
            "Epoch 48/50\n",
            "625/625 [==============================] - 10s 16ms/step - loss: 0.0653 - accuracy: 0.9731 - val_loss: 1.4911 - val_accuracy: 0.8025\n",
            "Epoch 49/50\n",
            "625/625 [==============================] - 10s 16ms/step - loss: 0.0634 - accuracy: 0.9744 - val_loss: 1.5014 - val_accuracy: 0.7879\n",
            "Epoch 50/50\n",
            "625/625 [==============================] - 10s 16ms/step - loss: 0.0623 - accuracy: 0.9733 - val_loss: 1.5340 - val_accuracy: 0.7936\n"
          ],
          "name": "stdout"
        }
      ]
    },
    {
      "cell_type": "code",
      "metadata": {
        "colab_type": "code",
        "id": "g9DC6dmLF8DC",
        "outputId": "3a915c30-b53d-4fa9-8664-f4e973bd4c1f",
        "colab": {
          "base_uri": "https://localhost:8080/",
          "height": 544
        }
      },
      "source": [
        "import matplotlib.pyplot as plt\n",
        "\n",
        "\n",
        "def plot_graphs(history, string):\n",
        "  plt.plot(history.history[string])\n",
        "  plt.plot(history.history['val_'+string])\n",
        "  plt.xlabel(\"Epochs\")\n",
        "  plt.ylabel(string)\n",
        "  plt.legend([string, 'val_'+string])\n",
        "  plt.show()\n",
        "\n",
        "plot_graphs(history, 'accuracy')\n",
        "plot_graphs(history, 'loss')"
      ],
      "execution_count": 0,
      "outputs": [
        {
          "output_type": "display_data",
          "data": {
            "image/png": "[encoded data removed]",
            "text/plain": [
              "<Figure size 432x288 with 1 Axes>"
            ]
          },
          "metadata": {
            "tags": [],
            "needs_background": "light"
          }
        },
        {
          "output_type": "display_data",
          "data": {
            "image/png": "[encoded data removed]",
            "text/plain": [
              "<Figure size 432x288 with 1 Axes>"
            ]
          },
          "metadata": {
            "tags": [],
            "needs_background": "light"
          }
        }
      ]
    },
    {
      "cell_type": "code",
      "metadata": {
        "colab_type": "code",
        "id": "7ZEZIUppGhdi",
        "colab": {}
      },
      "source": [
        "model.save(\"test.h5\")"
      ],
      "execution_count": 0,
      "outputs": []
    },
    {
      "cell_type": "code",
      "metadata": {
        "id": "9OxvWrT1tndt",
        "colab_type": "code",
        "colab": {}
      },
      "source": [
        ""
      ],
      "execution_count": 0,
      "outputs": []
    }
  ]
}