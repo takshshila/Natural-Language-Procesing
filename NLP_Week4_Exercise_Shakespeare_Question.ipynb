{
  "nbformat": 4,
  "nbformat_minor": 0,
  "metadata": {
    "accelerator": "GPU",
    "colab": {
      "name": "Copy of NLP_Week4_Exercise_Shakespeare_Question.ipynb",
      "provenance": []
    },
    "kernelspec": {
      "display_name": "Python 3",
      "name": "python3"
    }
  },
  "cells": [
    {
      "cell_type": "code",
      "metadata": {
        "id": "zX4Kg8DUTKWO",
        "colab_type": "code",
        "colab": {}
      },
      "source": [
        "#@title Licensed under the Apache License, Version 2.0 (the \"License\");\n",
        "# you may not use this file except in compliance with the License.\n",
        "# You may obtain a copy of the License at\n",
        "#\n",
        "# https://www.apache.org/licenses/LICENSE-2.0\n",
        "#\n",
        "# Unless required by applicable law or agreed to in writing, software\n",
        "# distributed under the License is distributed on an \"AS IS\" BASIS,\n",
        "# WITHOUT WARRANTIES OR CONDITIONS OF ANY KIND, either express or implied.\n",
        "# See the License for the specific language governing permissions and\n",
        "# limitations under the License."
      ],
      "execution_count": 0,
      "outputs": []
    },
    {
      "cell_type": "code",
      "metadata": {
        "colab_type": "code",
        "id": "BOwsuGQQY9OL",
        "colab": {}
      },
      "source": [
        "from tensorflow.keras.preprocessing.sequence import pad_sequences\n",
        "from tensorflow.keras.layers import Embedding, LSTM, Dense, Dropout, Bidirectional\n",
        "from tensorflow.keras.preprocessing.text import Tokenizer\n",
        "from tensorflow.keras.models import Sequential\n",
        "from tensorflow.keras.optimizers import Adam\n",
        "\n",
        "from tensorflow.keras import regularizers\n",
        "\n",
        "import tensorflow.keras.utils as ku \n",
        "import numpy as np "
      ],
      "execution_count": 0,
      "outputs": []
    },
    {
      "cell_type": "code",
      "metadata": {
        "colab_type": "code",
        "id": "PRnDnCW-Z7qv",
        "outputId": "4e2d0fa6-05d7-4bf5-87bd-6d104115ed23",
        "colab": {
          "base_uri": "https://localhost:8080/",
          "height": 204
        }
      },
      "source": [
        "tokenizer = Tokenizer()\n",
        "!wget --no-check-certificate \\\n",
        "    https://storage.googleapis.com/laurencemoroney-blog.appspot.com/sonnets.txt \\\n",
        "    -O /tmp/sonnets.txt\n",
        "data = open('/tmp/sonnets.txt').read()\n",
        "\n",
        "corpus = data.lower().split(\"\\n\")\n",
        "\n",
        "\n",
        "tokenizer.fit_on_texts(corpus)\n",
        "total_words = len(tokenizer.word_index) + 1\n",
        "\n",
        "# create input sequences using list of tokens\n",
        "input_sequences = []\n",
        "for line in corpus:\n",
        "\ttoken_list = tokenizer.texts_to_sequences([line])[0]\n",
        "\tfor i in range(1, len(token_list)):\n",
        "\t\tn_gram_sequence = token_list[:i+1]\n",
        "\t\tinput_sequences.append(n_gram_sequence)\n",
        "\n",
        "\n",
        "# pad sequences \n",
        "max_sequence_len = max([len(x) for x in input_sequences])\n",
        "input_sequences = np.array(pad_sequences(input_sequences, maxlen=max_sequence_len, padding='pre'))\n",
        "\n",
        "# create predictors and label\n",
        "predictors, label = input_sequences[:,:-1],input_sequences[:,-1]\n",
        "\n",
        "label = ku.to_categorical(label, num_classes=total_words)"
      ],
      "execution_count": 0,
      "outputs": [
        {
          "output_type": "stream",
          "text": [
            "--2020-06-12 03:01:32--  https://storage.googleapis.com/laurencemoroney-blog.appspot.com/sonnets.txt\n",
            "Resolving storage.googleapis.com (storage.googleapis.com)... 108.177.126.128, 2a00:1450:4013:c01::80\n",
            "Connecting to storage.googleapis.com (storage.googleapis.com)|108.177.126.128|:443... connected.\n",
            "HTTP request sent, awaiting response... 200 OK\n",
            "Length: 93578 (91K) [text/plain]\n",
            "Saving to: ‘/tmp/sonnets.txt’\n",
            "\n",
            "\r/tmp/sonnets.txt      0%[                    ]       0  --.-KB/s               \r/tmp/sonnets.txt    100%[===================>]  91.38K  --.-KB/s    in 0.001s  \n",
            "\n",
            "2020-06-12 03:01:33 (126 MB/s) - ‘/tmp/sonnets.txt’ saved [93578/93578]\n",
            "\n"
          ],
          "name": "stdout"
        }
      ]
    },
    {
      "cell_type": "code",
      "metadata": {
        "colab_type": "code",
        "id": "w9vH8Y59ajYL",
        "outputId": "171fa0fa-b19e-44c0-ecc1-747c693a0db3",
        "colab": {
          "base_uri": "https://localhost:8080/",
          "height": 374
        }
      },
      "source": [
        "model = Sequential()\n",
        "model.add(Embedding(total_words, 120, input_length=max_sequence_len-1))\n",
        "model.add(Bidirectional(LSTM(150, return_sequences=True)))\n",
        "model.add(Dropout(0.2))\n",
        "model.add(Bidirectional(LSTM(120)))\n",
        "model.add(Dense(total_words, activation=\"relu\", kernel_regularizer=regularize.l1(0.01)))\n",
        "model.add(Dense(total_words, activation=\"softmax\"))\n",
        "\n",
        "adam=Adam(learning_rate=0.02)\n",
        "model.compile(loss=\"categorical_crossentropy\", optimizer=adam, metrics=[\"accuracy\"])\n",
        "print(model.summary())\n"
      ],
      "execution_count": 0,
      "outputs": [
        {
          "output_type": "stream",
          "text": [
            "Model: \"sequential_1\"\n",
            "_________________________________________________________________\n",
            "Layer (type)                 Output Shape              Param #   \n",
            "=================================================================\n",
            "embedding_1 (Embedding)      (None, 10, 120)           385320    \n",
            "_________________________________________________________________\n",
            "bidirectional_2 (Bidirection (None, 10, 300)           325200    \n",
            "_________________________________________________________________\n",
            "dropout_1 (Dropout)          (None, 10, 300)           0         \n",
            "_________________________________________________________________\n",
            "bidirectional_3 (Bidirection (None, 240)               404160    \n",
            "_________________________________________________________________\n",
            "dense_2 (Dense)              (None, 3211)              773851    \n",
            "_________________________________________________________________\n",
            "dense_3 (Dense)              (None, 3211)              10313732  \n",
            "=================================================================\n",
            "Total params: 12,202,263\n",
            "Trainable params: 12,202,263\n",
            "Non-trainable params: 0\n",
            "_________________________________________________________________\n",
            "None\n"
          ],
          "name": "stdout"
        }
      ]
    },
    {
      "cell_type": "code",
      "metadata": {
        "colab_type": "code",
        "id": "AIg2f1HBxqof",
        "outputId": "8c731193-31ec-4c1b-c26d-b0dac43731e3",
        "colab": {
          "base_uri": "https://localhost:8080/",
          "height": 1000
        }
      },
      "source": [
        " history = model.fit(predictors, label, epochs=100, verbose=1)"
      ],
      "execution_count": 0,
      "outputs": [
        {
          "output_type": "stream",
          "text": [
            "Epoch 1/100\n",
            "484/484 [==============================] - 7s 14ms/step - loss: 28.6105 - accuracy: 0.0211\n",
            "Epoch 2/100\n",
            "484/484 [==============================] - 7s 14ms/step - loss: 25.8948 - accuracy: 0.0241\n",
            "Epoch 3/100\n",
            "484/484 [==============================] - 6s 13ms/step - loss: 25.9130 - accuracy: 0.0241\n",
            "Epoch 4/100\n",
            "484/484 [==============================] - 6s 13ms/step - loss: 25.9270 - accuracy: 0.0221\n",
            "Epoch 5/100\n",
            "484/484 [==============================] - 7s 14ms/step - loss: 25.8966 - accuracy: 0.0210\n",
            "Epoch 6/100\n",
            "484/484 [==============================] - 7s 14ms/step - loss: 25.8581 - accuracy: 0.0230\n",
            "Epoch 7/100\n",
            "484/484 [==============================] - 6s 13ms/step - loss: 25.8364 - accuracy: 0.0220\n",
            "Epoch 8/100\n",
            "484/484 [==============================] - 6s 13ms/step - loss: 25.8546 - accuracy: 0.0225\n",
            "Epoch 9/100\n",
            "484/484 [==============================] - 6s 13ms/step - loss: 25.8274 - accuracy: 0.0222\n",
            "Epoch 10/100\n",
            "484/484 [==============================] - 6s 13ms/step - loss: 25.8260 - accuracy: 0.0226\n",
            "Epoch 11/100\n",
            "484/484 [==============================] - 6s 13ms/step - loss: 25.8181 - accuracy: 0.0224\n",
            "Epoch 12/100\n",
            "484/484 [==============================] - 6s 13ms/step - loss: 25.8307 - accuracy: 0.0224\n",
            "Epoch 13/100\n",
            "484/484 [==============================] - 6s 13ms/step - loss: 25.7906 - accuracy: 0.0235\n",
            "Epoch 14/100\n",
            "484/484 [==============================] - 6s 13ms/step - loss: 25.7877 - accuracy: 0.0222\n",
            "Epoch 15/100\n",
            "484/484 [==============================] - 7s 13ms/step - loss: 25.7887 - accuracy: 0.0202\n",
            "Epoch 16/100\n",
            "484/484 [==============================] - 6s 13ms/step - loss: 25.7838 - accuracy: 0.0230\n",
            "Epoch 17/100\n",
            "484/484 [==============================] - 6s 13ms/step - loss: 25.7853 - accuracy: 0.0217\n",
            "Epoch 18/100\n",
            "484/484 [==============================] - 7s 13ms/step - loss: 25.7866 - accuracy: 0.0222\n",
            "Epoch 19/100\n",
            "484/484 [==============================] - 6s 13ms/step - loss: 25.7828 - accuracy: 0.0230\n",
            "Epoch 20/100\n",
            "484/484 [==============================] - 6s 13ms/step - loss: 25.7852 - accuracy: 0.0221\n",
            "Epoch 21/100\n",
            "484/484 [==============================] - 6s 13ms/step - loss: 25.7876 - accuracy: 0.0213\n",
            "Epoch 22/100\n",
            "484/484 [==============================] - 6s 13ms/step - loss: 25.7900 - accuracy: 0.0211\n",
            "Epoch 23/100\n",
            "484/484 [==============================] - 6s 13ms/step - loss: 25.8042 - accuracy: 0.0227\n",
            "Epoch 24/100\n",
            "484/484 [==============================] - 6s 13ms/step - loss: 25.7769 - accuracy: 0.0226\n",
            "Epoch 25/100\n",
            "484/484 [==============================] - 7s 13ms/step - loss: 25.7706 - accuracy: 0.0217\n",
            "Epoch 26/100\n",
            "484/484 [==============================] - 6s 13ms/step - loss: 25.7740 - accuracy: 0.0219\n",
            "Epoch 27/100\n",
            "484/484 [==============================] - 6s 13ms/step - loss: 25.7727 - accuracy: 0.0241\n",
            "Epoch 28/100\n",
            "484/484 [==============================] - 7s 14ms/step - loss: 25.7714 - accuracy: 0.0219\n",
            "Epoch 29/100\n",
            "484/484 [==============================] - 6s 13ms/step - loss: 25.7747 - accuracy: 0.0217\n",
            "Epoch 30/100\n",
            "484/484 [==============================] - 7s 13ms/step - loss: 25.7718 - accuracy: 0.0253\n",
            "Epoch 31/100\n",
            "484/484 [==============================] - 6s 13ms/step - loss: 25.7692 - accuracy: 0.0214\n",
            "Epoch 32/100\n",
            "484/484 [==============================] - 6s 13ms/step - loss: 25.7695 - accuracy: 0.0233\n",
            "Epoch 33/100\n",
            "484/484 [==============================] - 6s 13ms/step - loss: 25.7698 - accuracy: 0.0224\n",
            "Epoch 34/100\n",
            "484/484 [==============================] - 6s 13ms/step - loss: 25.7695 - accuracy: 0.0205\n",
            "Epoch 35/100\n",
            "484/484 [==============================] - 6s 13ms/step - loss: 25.7774 - accuracy: 0.0226\n",
            "Epoch 36/100\n",
            "484/484 [==============================] - 6s 13ms/step - loss: 25.7641 - accuracy: 0.0236\n",
            "Epoch 37/100\n",
            "484/484 [==============================] - 6s 13ms/step - loss: 25.7533 - accuracy: 0.0219\n",
            "Epoch 38/100\n",
            "484/484 [==============================] - 6s 13ms/step - loss: 25.7549 - accuracy: 0.0226\n",
            "Epoch 39/100\n",
            "484/484 [==============================] - 6s 13ms/step - loss: 25.7596 - accuracy: 0.0221\n",
            "Epoch 40/100\n",
            "484/484 [==============================] - 7s 13ms/step - loss: 25.7607 - accuracy: 0.0209\n",
            "Epoch 41/100\n",
            "484/484 [==============================] - 6s 13ms/step - loss: 25.7659 - accuracy: 0.0213\n",
            "Epoch 42/100\n",
            "484/484 [==============================] - 7s 14ms/step - loss: 25.7518 - accuracy: 0.0211\n",
            "Epoch 43/100\n",
            "484/484 [==============================] - 6s 13ms/step - loss: 25.7579 - accuracy: 0.0210\n",
            "Epoch 44/100\n",
            "484/484 [==============================] - 6s 13ms/step - loss: 25.7466 - accuracy: 0.0216\n",
            "Epoch 45/100\n",
            "484/484 [==============================] - 6s 13ms/step - loss: 25.7477 - accuracy: 0.0221\n",
            "Epoch 46/100\n",
            "484/484 [==============================] - 6s 13ms/step - loss: 25.7460 - accuracy: 0.0211\n",
            "Epoch 47/100\n",
            "484/484 [==============================] - 6s 13ms/step - loss: 25.7472 - accuracy: 0.0221\n",
            "Epoch 48/100\n",
            "484/484 [==============================] - 6s 13ms/step - loss: 25.7470 - accuracy: 0.0216\n",
            "Epoch 49/100\n",
            "484/484 [==============================] - 7s 14ms/step - loss: 25.7442 - accuracy: 0.0195\n",
            "Epoch 50/100\n",
            "484/484 [==============================] - 6s 13ms/step - loss: 25.7520 - accuracy: 0.0222\n",
            "Epoch 51/100\n",
            "484/484 [==============================] - 7s 13ms/step - loss: 25.7474 - accuracy: 0.0224\n",
            "Epoch 52/100\n",
            "484/484 [==============================] - 6s 13ms/step - loss: 25.7409 - accuracy: 0.0208\n",
            "Epoch 53/100\n",
            "484/484 [==============================] - 7s 14ms/step - loss: 25.7445 - accuracy: 0.0208\n",
            "Epoch 54/100\n",
            "484/484 [==============================] - 6s 13ms/step - loss: 25.7460 - accuracy: 0.0219\n",
            "Epoch 55/100\n",
            "484/484 [==============================] - 6s 13ms/step - loss: 25.7420 - accuracy: 0.0215\n",
            "Epoch 56/100\n",
            "484/484 [==============================] - 6s 13ms/step - loss: 25.7440 - accuracy: 0.0222\n",
            "Epoch 57/100\n",
            "484/484 [==============================] - 6s 13ms/step - loss: 25.7447 - accuracy: 0.0224\n",
            "Epoch 58/100\n",
            "484/484 [==============================] - 6s 13ms/step - loss: 25.7421 - accuracy: 0.0221\n",
            "Epoch 59/100\n",
            "484/484 [==============================] - 6s 13ms/step - loss: 25.7413 - accuracy: 0.0222\n",
            "Epoch 60/100\n",
            "484/484 [==============================] - 6s 13ms/step - loss: 25.7454 - accuracy: 0.0222\n",
            "Epoch 61/100\n",
            "484/484 [==============================] - 6s 13ms/step - loss: 25.7401 - accuracy: 0.0224\n",
            "Epoch 62/100\n",
            "484/484 [==============================] - 6s 13ms/step - loss: 25.7410 - accuracy: 0.0208\n",
            "Epoch 63/100\n",
            "484/484 [==============================] - 7s 13ms/step - loss: 25.7420 - accuracy: 0.0213\n",
            "Epoch 64/100\n",
            "484/484 [==============================] - 6s 13ms/step - loss: 25.7404 - accuracy: 0.0232\n",
            "Epoch 65/100\n",
            "484/484 [==============================] - 6s 13ms/step - loss: 25.7393 - accuracy: 0.0223\n",
            "Epoch 66/100\n",
            "484/484 [==============================] - 6s 13ms/step - loss: 25.7417 - accuracy: 0.0222\n",
            "Epoch 67/100\n",
            "484/484 [==============================] - 6s 13ms/step - loss: 25.7379 - accuracy: 0.0216\n",
            "Epoch 68/100\n",
            "484/484 [==============================] - 6s 13ms/step - loss: 25.7470 - accuracy: 0.0226\n",
            "Epoch 69/100\n",
            "484/484 [==============================] - 6s 13ms/step - loss: 25.7379 - accuracy: 0.0204\n",
            "Epoch 70/100\n",
            "484/484 [==============================] - 6s 13ms/step - loss: 25.7334 - accuracy: 0.0207\n",
            "Epoch 71/100\n",
            "484/484 [==============================] - 7s 13ms/step - loss: 25.7351 - accuracy: 0.0206\n",
            "Epoch 72/100\n",
            "484/484 [==============================] - 6s 13ms/step - loss: 25.7361 - accuracy: 0.0206\n",
            "Epoch 73/100\n",
            "484/484 [==============================] - 7s 13ms/step - loss: 25.7325 - accuracy: 0.0236\n",
            "Epoch 74/100\n",
            "484/484 [==============================] - 6s 13ms/step - loss: 25.7325 - accuracy: 0.0220\n",
            "Epoch 75/100\n",
            "484/484 [==============================] - 6s 13ms/step - loss: 25.7362 - accuracy: 0.0222\n",
            "Epoch 76/100\n",
            "484/484 [==============================] - 7s 14ms/step - loss: 25.7310 - accuracy: 0.0217\n",
            "Epoch 77/100\n",
            "484/484 [==============================] - 6s 13ms/step - loss: 25.7313 - accuracy: 0.0230\n",
            "Epoch 78/100\n",
            "484/484 [==============================] - 6s 13ms/step - loss: 25.7421 - accuracy: 0.0217\n",
            "Epoch 79/100\n",
            "484/484 [==============================] - 6s 13ms/step - loss: 25.7267 - accuracy: 0.0210\n",
            "Epoch 80/100\n",
            "484/484 [==============================] - 6s 13ms/step - loss: 25.7285 - accuracy: 0.0213\n",
            "Epoch 81/100\n",
            "484/484 [==============================] - 7s 14ms/step - loss: 25.7293 - accuracy: 0.0192\n",
            "Epoch 82/100\n",
            "484/484 [==============================] - 6s 13ms/step - loss: 25.7254 - accuracy: 0.0213\n",
            "Epoch 83/100\n",
            "484/484 [==============================] - 6s 13ms/step - loss: 25.7285 - accuracy: 0.0222\n",
            "Epoch 84/100\n",
            "484/484 [==============================] - 6s 13ms/step - loss: 25.7334 - accuracy: 0.0223\n",
            "Epoch 85/100\n",
            "484/484 [==============================] - 6s 13ms/step - loss: 25.7253 - accuracy: 0.0236\n",
            "Epoch 86/100\n",
            "484/484 [==============================] - 6s 13ms/step - loss: 25.7257 - accuracy: 0.0229\n",
            "Epoch 87/100\n",
            "484/484 [==============================] - 6s 13ms/step - loss: 25.7266 - accuracy: 0.0218\n",
            "Epoch 88/100\n",
            "484/484 [==============================] - 7s 14ms/step - loss: 25.7229 - accuracy: 0.0208\n",
            "Epoch 89/100\n",
            "484/484 [==============================] - 6s 13ms/step - loss: 25.7257 - accuracy: 0.0226\n",
            "Epoch 90/100\n",
            "484/484 [==============================] - 6s 13ms/step - loss: 25.7245 - accuracy: 0.0216\n",
            "Epoch 91/100\n",
            "484/484 [==============================] - 6s 13ms/step - loss: 25.7235 - accuracy: 0.0214\n",
            "Epoch 92/100\n",
            "484/484 [==============================] - 6s 13ms/step - loss: 25.7258 - accuracy: 0.0218\n",
            "Epoch 93/100\n",
            "484/484 [==============================] - 6s 13ms/step - loss: 25.7308 - accuracy: 0.0221\n",
            "Epoch 94/100\n",
            "484/484 [==============================] - 6s 13ms/step - loss: 25.7201 - accuracy: 0.0218\n",
            "Epoch 95/100\n",
            "484/484 [==============================] - 6s 13ms/step - loss: 25.7219 - accuracy: 0.0214\n",
            "Epoch 96/100\n",
            "484/484 [==============================] - 6s 13ms/step - loss: 25.7218 - accuracy: 0.0219\n",
            "Epoch 97/100\n",
            "484/484 [==============================] - 6s 13ms/step - loss: 25.7138 - accuracy: 0.0216\n",
            "Epoch 98/100\n",
            "484/484 [==============================] - 6s 13ms/step - loss: 25.7158 - accuracy: 0.0219\n",
            "Epoch 99/100\n",
            "484/484 [==============================] - 6s 13ms/step - loss: 25.7280 - accuracy: 0.0214\n",
            "Epoch 100/100\n",
            "484/484 [==============================] - 7s 14ms/step - loss: 25.7157 - accuracy: 0.0200\n"
          ],
          "name": "stdout"
        }
      ]
    },
    {
      "cell_type": "code",
      "metadata": {
        "colab_type": "code",
        "id": "1fXTEO3GJ282",
        "outputId": "e1f1b2a5-1700-4a65-9fc6-c9238154d4bf",
        "colab": {
          "base_uri": "https://localhost:8080/",
          "height": 545
        }
      },
      "source": [
        "import matplotlib.pyplot as plt\n",
        "acc = history.history['accuracy']\n",
        "loss = history.history['loss']\n",
        "\n",
        "epochs = range(len(acc))\n",
        "\n",
        "plt.plot(epochs, acc, 'b', label='Training accuracy')\n",
        "plt.title('Training accuracy')\n",
        "\n",
        "plt.figure()\n",
        "\n",
        "plt.plot(epochs, loss, 'b', label='Training Loss')\n",
        "plt.title('Training loss')\n",
        "plt.legend()\n",
        "\n",
        "plt.show()"
      ],
      "execution_count": 0,
      "outputs": [
        {
          "output_type": "display_data",
          "data": {
            "image/png": "[encoded data removed]",
            "text/plain": [
              "<Figure size 432x288 with 1 Axes>"
            ]
          },
          "metadata": {
            "tags": [],
            "needs_background": "light"
          }
        },
        {
          "output_type": "display_data",
          "data": {
            "image/png": "[encoded data removed]",
            "text/plain": [
              "<Figure size 432x288 with 1 Axes>"
            ]
          },
          "metadata": {
            "tags": [],
            "needs_background": "light"
          }
        }
      ]
    },
    {
      "cell_type": "code",
      "metadata": {
        "colab_type": "code",
        "id": "6Vc6PHgxa6Hm",
        "outputId": "e166b680-cffd-4704-9585-824d84c83c0d",
        "colab": {
          "base_uri": "https://localhost:8080/",
          "height": 105
        }
      },
      "source": [
        "seed_text = \"Help me Obi Wan Kenobi, you're my only hope\"\n",
        "next_words = 100\n",
        "  \n",
        "for _ in range(next_words):\n",
        "\ttoken_list = tokenizer.texts_to_sequences([seed_text])[0]\n",
        "\ttoken_list = pad_sequences([token_list], maxlen=max_sequence_len-1, padding='pre')\n",
        "\tpredicted = model.predict_classes(token_list, verbose=0)\n",
        "\toutput_word = \"\"\n",
        "\tfor word, index in tokenizer.word_index.items():\n",
        "\t\tif index == predicted:\n",
        "\t\t\toutput_word = word\n",
        "\t\t\tbreak\n",
        "\tseed_text += \" \" + output_word\n",
        "print(seed_text)"
      ],
      "execution_count": 0,
      "outputs": [
        {
          "output_type": "stream",
          "text": [
            "WARNING:tensorflow:From <ipython-input-11-622d307fa19a>:7: Sequential.predict_classes (from tensorflow.python.keras.engine.sequential) is deprecated and will be removed after 2021-01-01.\n",
            "Instructions for updating:\n",
            "Please use instead:* `np.argmax(model.predict(x), axis=-1)`,   if your model does multi-class classification   (e.g. if it uses a `softmax` last-layer activation).* `(model.predict(x) > 0.5).astype(\"int32\")`,   if your model does binary classification   (e.g. if it uses a `sigmoid` last-layer activation).\n",
            "Help me Obi Wan Kenobi, you're my only hope the the the the the the the the the the the the the the the the the the the the the the the the the the the the the the the the the the the the the the the the the the the the the the the the the the the the the the the the the the the the the the the the the the the the the the the the the the the the the the the the the the the the the the the the the the the the the the the the the the the the\n"
          ],
          "name": "stdout"
        }
      ]
    },
    {
      "cell_type": "code",
      "metadata": {
        "id": "-_PeFBUJjMCG",
        "colab_type": "code",
        "colab": {}
      },
      "source": [
        ""
      ],
      "execution_count": 0,
      "outputs": []
    }
  ]
}