{
  "nbformat": 4,
  "nbformat_minor": 0,
  "metadata": {
    "colab": {
      "name": "Sarcasm.ipynb",
      "provenance": [],
      "collapsed_sections": []
    },
    "kernelspec": {
      "name": "python3",
      "display_name": "Python 3"
    }
  },
  "cells": [
    {
      "cell_type": "code",
      "metadata": {
        "id": "j_CA4dni34pe",
        "colab_type": "code",
        "colab": {}
      },
      "source": [
        "import json \n",
        "import tensorflow as tf\n",
        "from tensorflow.keras.preprocessing.text import Tokenizer\n",
        "from tensorflow.keras.preprocessing.sequence import pad_sequences"
      ],
      "execution_count": 0,
      "outputs": []
    },
    {
      "cell_type": "code",
      "metadata": {
        "id": "TDM8hOKD6QXV",
        "colab_type": "code",
        "outputId": "f7984ccb-1eb6-4168-bd50-bf59144f0fee",
        "colab": {
          "base_uri": "https://localhost:8080/",
          "height": 306
        }
      },
      "source": [
        "!wget —no-check-certificate https://storage.googleapis.com/laurencemoroney-blog.appspot.com/sarcasm.json"
      ],
      "execution_count": 0,
      "outputs": [
        {
          "output_type": "stream",
          "text": [
            "--2020-05-28 10:40:39--  http://xn--no-check-certificate-ou2l/\n",
            "Resolving xn--no-check-certificate-ou2l (xn--no-check-certificate-ou2l)... failed: Name or service not known.\n",
            "wget: unable to resolve host address ‘xn--no-check-certificate-ou2l’\n",
            "--2020-05-28 10:40:39--  https://storage.googleapis.com/laurencemoroney-blog.appspot.com/sarcasm.json\n",
            "Resolving storage.googleapis.com (storage.googleapis.com)... 74.125.142.128, 2607:f8b0:400e:c08::80\n",
            "Connecting to storage.googleapis.com (storage.googleapis.com)|74.125.142.128|:443... connected.\n",
            "HTTP request sent, awaiting response... 200 OK\n",
            "Length: 5643545 (5.4M) [application/json]\n",
            "Saving to: ‘sarcasm.json’\n",
            "\n",
            "\rsarcasm.json          0%[                    ]       0  --.-KB/s               \rsarcasm.json        100%[===================>]   5.38M  --.-KB/s    in 0.05s   \n",
            "\n",
            "2020-05-28 10:40:39 (101 MB/s) - ‘sarcasm.json’ saved [5643545/5643545]\n",
            "\n",
            "FINISHED --2020-05-28 10:40:39--\n",
            "Total wall clock time: 0.1s\n",
            "Downloaded: 1 files, 5.4M in 0.05s (101 MB/s)\n"
          ],
          "name": "stdout"
        }
      ]
    },
    {
      "cell_type": "code",
      "metadata": {
        "id": "0zx47oTZ3dUy",
        "colab_type": "code",
        "colab": {}
      },
      "source": [
        "#hyper parameters\n",
        "vocab_size=10000\n",
        "embedding_dim=16\n",
        "max_length=120\n",
        "truncate_type=\"post\"\n",
        "padding_type=\"post\"\n",
        "oov_tokn=\"<OOV>\"\n",
        "training_size=20000\n"
      ],
      "execution_count": 0,
      "outputs": []
    },
    {
      "cell_type": "code",
      "metadata": {
        "id": "TwOX3Xsq6w--",
        "colab_type": "code",
        "colab": {}
      },
      "source": [
        "with open(\"sarcasm.json\", 'r') as f:\n",
        "  datastore=json.load(f)\n",
        "\n",
        "sentences=[]\n",
        "labels =[]  \n",
        "\n",
        "for item in datastore:\n",
        "  sentences.append(item[\"headline\"])\n",
        "  labels.append(item[\"is_sarcastic\"])\n",
        " \n"
      ],
      "execution_count": 0,
      "outputs": []
    },
    {
      "cell_type": "code",
      "metadata": {
        "id": "AA9Jy41U7W50",
        "colab_type": "code",
        "colab": {}
      },
      "source": [
        "training_sentences=sentences[0:training_size]\n",
        "training_labels=labels[0:training_size]\n",
        "\n",
        "testing_sentences=sentences[training_size:]\n",
        "testing_labels=labels[training_size:]"
      ],
      "execution_count": 0,
      "outputs": []
    },
    {
      "cell_type": "code",
      "metadata": {
        "id": "QOwxEZQ_7utm",
        "colab_type": "code",
        "colab": {}
      },
      "source": [
        "#tokenizer instance\n",
        "tokenizer=Tokenizer(num_words=vocab_size, oov_token=oov_tokn)\n",
        "\n",
        "#tokenizer fit on the sequences\n",
        "tokenizer.fit_on_texts(training_sentences)\n",
        "word_index=tokenizer.word_index\n",
        "\n",
        "# training sequence or padding\n",
        "sequences=tokenizer.texts_to_sequences(training_sentences)\n",
        "training_padded=pad_sequences(sequences, maxlen=max_length, padding=padding_type, truncating=truncate_type)\n",
        "\n",
        "# training sequence or padding\n",
        "testing_sequences=tokenizer.texts_to_sequences(testing_sentences)\n",
        "testing_padded=pad_sequences(testing_sequences, maxlen=max_length, padding=padding_type, truncating=truncate_type)"
      ],
      "execution_count": 0,
      "outputs": []
    },
    {
      "cell_type": "code",
      "metadata": {
        "id": "rjkPpWll7-rW",
        "colab_type": "code",
        "outputId": "7f13cf2e-4e8b-4166-c062-027dba117af6",
        "colab": {
          "base_uri": "https://localhost:8080/",
          "height": 289
        }
      },
      "source": [
        "# now comes the time of neural networks\n",
        "model=tf.keras.Sequential([\n",
        "      tf.keras.layers.Embedding(vocab_size, embedding_dim, input_length=max_length),\n",
        "      tf.keras.layers.GlobalAveragePooling1D(),\n",
        "      tf.keras.layers.Dense(50, activation=\"relu\"),\n",
        "      tf.keras.layers.Dense(1,activation=\"sigmoid\")\n",
        "\n",
        "])\n",
        "model.compile(loss='binary_crossentropy',optimizer='adam',metrics=['accuracy'])\n",
        "model.summary()"
      ],
      "execution_count": 0,
      "outputs": [
        {
          "output_type": "stream",
          "text": [
            "Model: \"sequential_1\"\n",
            "_________________________________________________________________\n",
            "Layer (type)                 Output Shape              Param #   \n",
            "=================================================================\n",
            "embedding_1 (Embedding)      (None, 120, 16)           160000    \n",
            "_________________________________________________________________\n",
            "global_average_pooling1d_1 ( (None, 16)                0         \n",
            "_________________________________________________________________\n",
            "dense_2 (Dense)              (None, 50)                850       \n",
            "_________________________________________________________________\n",
            "dense_3 (Dense)              (None, 1)                 51        \n",
            "=================================================================\n",
            "Total params: 160,901\n",
            "Trainable params: 160,901\n",
            "Non-trainable params: 0\n",
            "_________________________________________________________________\n"
          ],
          "name": "stdout"
        }
      ]
    },
    {
      "cell_type": "code",
      "metadata": {
        "id": "87_FurYw9iy4",
        "colab_type": "code",
        "colab": {}
      },
      "source": [
        "import numpy as np\n",
        "\n",
        "training_padded=np.array(training_padded)\n",
        "training_labels=np.array(training_labels)\n",
        "\n",
        "testing_padded=np.array(testing_padded)\n",
        "testing_labels=np.array(testing_labels)\n"
      ],
      "execution_count": 0,
      "outputs": []
    },
    {
      "cell_type": "code",
      "metadata": {
        "id": "lnKb84Gy8zCS",
        "colab_type": "code",
        "outputId": "e5568ecf-a3b1-4c47-a031-ba3c3fe6fee5",
        "colab": {
          "base_uri": "https://localhost:8080/",
          "height": 1000
        }
      },
      "source": [
        "num_epochs=50\n",
        "history=model.fit(training_padded, training_labels, epochs=num_epochs, validation_data=(testing_padded, testing_labels))"
      ],
      "execution_count": 0,
      "outputs": [
        {
          "output_type": "stream",
          "text": [
            "Epoch 1/50\n",
            "625/625 [==============================] - 3s 4ms/step - loss: 0.6701 - accuracy: 0.5791 - val_loss: 0.5915 - val_accuracy: 0.6931\n",
            "Epoch 2/50\n",
            "625/625 [==============================] - 3s 4ms/step - loss: 0.4314 - accuracy: 0.8253 - val_loss: 0.3808 - val_accuracy: 0.8402\n",
            "Epoch 3/50\n",
            "625/625 [==============================] - 3s 4ms/step - loss: 0.3068 - accuracy: 0.8758 - val_loss: 0.3559 - val_accuracy: 0.8492\n",
            "Epoch 4/50\n",
            "625/625 [==============================] - 3s 4ms/step - loss: 0.2583 - accuracy: 0.8987 - val_loss: 0.3446 - val_accuracy: 0.8571\n",
            "Epoch 5/50\n",
            "625/625 [==============================] - 3s 4ms/step - loss: 0.2219 - accuracy: 0.9139 - val_loss: 0.3556 - val_accuracy: 0.8524\n",
            "Epoch 6/50\n",
            "625/625 [==============================] - 3s 4ms/step - loss: 0.1992 - accuracy: 0.9223 - val_loss: 0.3568 - val_accuracy: 0.8518\n",
            "Epoch 7/50\n",
            "625/625 [==============================] - 3s 5ms/step - loss: 0.1728 - accuracy: 0.9344 - val_loss: 0.3653 - val_accuracy: 0.8533\n",
            "Epoch 8/50\n",
            "625/625 [==============================] - 3s 4ms/step - loss: 0.1549 - accuracy: 0.9430 - val_loss: 0.3826 - val_accuracy: 0.8544\n",
            "Epoch 9/50\n",
            "625/625 [==============================] - 3s 4ms/step - loss: 0.1396 - accuracy: 0.9492 - val_loss: 0.4023 - val_accuracy: 0.8520\n",
            "Epoch 10/50\n",
            "625/625 [==============================] - 3s 5ms/step - loss: 0.1284 - accuracy: 0.9548 - val_loss: 0.4240 - val_accuracy: 0.8502\n",
            "Epoch 11/50\n",
            "625/625 [==============================] - 2s 4ms/step - loss: 0.1160 - accuracy: 0.9590 - val_loss: 0.4517 - val_accuracy: 0.8445\n",
            "Epoch 12/50\n",
            "625/625 [==============================] - 3s 4ms/step - loss: 0.1042 - accuracy: 0.9639 - val_loss: 0.5070 - val_accuracy: 0.8317\n",
            "Epoch 13/50\n",
            "625/625 [==============================] - 3s 5ms/step - loss: 0.0961 - accuracy: 0.9671 - val_loss: 0.4971 - val_accuracy: 0.8451\n",
            "Epoch 14/50\n",
            "625/625 [==============================] - 3s 5ms/step - loss: 0.0886 - accuracy: 0.9696 - val_loss: 0.5255 - val_accuracy: 0.8411\n",
            "Epoch 15/50\n",
            "625/625 [==============================] - 3s 4ms/step - loss: 0.0816 - accuracy: 0.9719 - val_loss: 0.5579 - val_accuracy: 0.8383\n",
            "Epoch 16/50\n",
            "625/625 [==============================] - 3s 4ms/step - loss: 0.0758 - accuracy: 0.9740 - val_loss: 0.6922 - val_accuracy: 0.8179\n",
            "Epoch 17/50\n",
            "625/625 [==============================] - 3s 4ms/step - loss: 0.0680 - accuracy: 0.9782 - val_loss: 0.6363 - val_accuracy: 0.8316\n",
            "Epoch 18/50\n",
            "625/625 [==============================] - 2s 4ms/step - loss: 0.0615 - accuracy: 0.9808 - val_loss: 0.6766 - val_accuracy: 0.8298\n",
            "Epoch 19/50\n",
            "625/625 [==============================] - 3s 4ms/step - loss: 0.0570 - accuracy: 0.9822 - val_loss: 0.6997 - val_accuracy: 0.8287\n",
            "Epoch 20/50\n",
            "625/625 [==============================] - 3s 5ms/step - loss: 0.0528 - accuracy: 0.9831 - val_loss: 0.7305 - val_accuracy: 0.8261\n",
            "Epoch 21/50\n",
            "625/625 [==============================] - 3s 4ms/step - loss: 0.0479 - accuracy: 0.9854 - val_loss: 0.7881 - val_accuracy: 0.8246\n",
            "Epoch 22/50\n",
            "625/625 [==============================] - 3s 4ms/step - loss: 0.0460 - accuracy: 0.9854 - val_loss: 0.8058 - val_accuracy: 0.8216\n",
            "Epoch 23/50\n",
            "625/625 [==============================] - 3s 4ms/step - loss: 0.0426 - accuracy: 0.9863 - val_loss: 0.8455 - val_accuracy: 0.8204\n",
            "Epoch 24/50\n",
            "625/625 [==============================] - 3s 5ms/step - loss: 0.0390 - accuracy: 0.9887 - val_loss: 0.9844 - val_accuracy: 0.8177\n",
            "Epoch 25/50\n",
            "625/625 [==============================] - 3s 4ms/step - loss: 0.0366 - accuracy: 0.9885 - val_loss: 0.9254 - val_accuracy: 0.8190\n",
            "Epoch 26/50\n",
            "625/625 [==============================] - 3s 4ms/step - loss: 0.0340 - accuracy: 0.9905 - val_loss: 0.9523 - val_accuracy: 0.8174\n",
            "Epoch 27/50\n",
            "625/625 [==============================] - 3s 5ms/step - loss: 0.0306 - accuracy: 0.9905 - val_loss: 0.9859 - val_accuracy: 0.8158\n",
            "Epoch 28/50\n",
            "625/625 [==============================] - 3s 5ms/step - loss: 0.0274 - accuracy: 0.9918 - val_loss: 1.1040 - val_accuracy: 0.8152\n",
            "Epoch 29/50\n",
            "625/625 [==============================] - 3s 4ms/step - loss: 0.0272 - accuracy: 0.9919 - val_loss: 1.1273 - val_accuracy: 0.8141\n",
            "Epoch 30/50\n",
            "625/625 [==============================] - 3s 4ms/step - loss: 0.0237 - accuracy: 0.9935 - val_loss: 1.1019 - val_accuracy: 0.8125\n",
            "Epoch 31/50\n",
            "625/625 [==============================] - 3s 5ms/step - loss: 0.0234 - accuracy: 0.9930 - val_loss: 1.1586 - val_accuracy: 0.8140\n",
            "Epoch 32/50\n",
            "625/625 [==============================] - 3s 4ms/step - loss: 0.0237 - accuracy: 0.9928 - val_loss: 1.3322 - val_accuracy: 0.8109\n",
            "Epoch 33/50\n",
            "625/625 [==============================] - 3s 5ms/step - loss: 0.0208 - accuracy: 0.9941 - val_loss: 1.2143 - val_accuracy: 0.8109\n",
            "Epoch 34/50\n",
            "625/625 [==============================] - 3s 5ms/step - loss: 0.0182 - accuracy: 0.9946 - val_loss: 1.3492 - val_accuracy: 0.8097\n",
            "Epoch 35/50\n",
            "625/625 [==============================] - 3s 5ms/step - loss: 0.0176 - accuracy: 0.9953 - val_loss: 1.3554 - val_accuracy: 0.8101\n",
            "Epoch 36/50\n",
            "625/625 [==============================] - 3s 4ms/step - loss: 0.0154 - accuracy: 0.9962 - val_loss: 1.3405 - val_accuracy: 0.8101\n",
            "Epoch 37/50\n",
            "625/625 [==============================] - 3s 4ms/step - loss: 0.0159 - accuracy: 0.9951 - val_loss: 1.4279 - val_accuracy: 0.8100\n",
            "Epoch 38/50\n",
            "625/625 [==============================] - 3s 5ms/step - loss: 0.0150 - accuracy: 0.9957 - val_loss: 1.3958 - val_accuracy: 0.8050\n",
            "Epoch 39/50\n",
            "625/625 [==============================] - 3s 4ms/step - loss: 0.0126 - accuracy: 0.9966 - val_loss: 1.4879 - val_accuracy: 0.8088\n",
            "Epoch 40/50\n",
            "625/625 [==============================] - 3s 4ms/step - loss: 0.0126 - accuracy: 0.9966 - val_loss: 1.5889 - val_accuracy: 0.8077\n",
            "Epoch 41/50\n",
            "625/625 [==============================] - 3s 4ms/step - loss: 0.0118 - accuracy: 0.9970 - val_loss: 1.6038 - val_accuracy: 0.8073\n",
            "Epoch 42/50\n",
            "625/625 [==============================] - 3s 4ms/step - loss: 0.0138 - accuracy: 0.9956 - val_loss: 1.5752 - val_accuracy: 0.8064\n",
            "Epoch 43/50\n",
            "625/625 [==============================] - 2s 4ms/step - loss: 0.0099 - accuracy: 0.9972 - val_loss: 1.7276 - val_accuracy: 0.8079\n",
            "Epoch 44/50\n",
            "625/625 [==============================] - 3s 4ms/step - loss: 0.0095 - accuracy: 0.9976 - val_loss: 1.6914 - val_accuracy: 0.8067\n",
            "Epoch 45/50\n",
            "625/625 [==============================] - 2s 4ms/step - loss: 0.0097 - accuracy: 0.9970 - val_loss: 1.6550 - val_accuracy: 0.8034\n",
            "Epoch 46/50\n",
            "625/625 [==============================] - 2s 4ms/step - loss: 0.0091 - accuracy: 0.9977 - val_loss: 1.7681 - val_accuracy: 0.8049\n",
            "Epoch 47/50\n",
            "625/625 [==============================] - 3s 4ms/step - loss: 0.0099 - accuracy: 0.9970 - val_loss: 1.8602 - val_accuracy: 0.8058\n",
            "Epoch 48/50\n",
            "625/625 [==============================] - 2s 4ms/step - loss: 0.0091 - accuracy: 0.9977 - val_loss: 1.9874 - val_accuracy: 0.8052\n",
            "Epoch 49/50\n",
            "625/625 [==============================] - 3s 4ms/step - loss: 0.0092 - accuracy: 0.9974 - val_loss: 1.7791 - val_accuracy: 0.8021\n",
            "Epoch 50/50\n",
            "625/625 [==============================] - 3s 4ms/step - loss: 0.0085 - accuracy: 0.9979 - val_loss: 1.8460 - val_accuracy: 0.8053\n"
          ],
          "name": "stdout"
        }
      ]
    },
    {
      "cell_type": "code",
      "metadata": {
        "id": "L84vwc_3_ZvA",
        "colab_type": "code",
        "outputId": "575e05ef-6a19-4e47-f7c6-73e973691243",
        "colab": {
          "base_uri": "https://localhost:8080/",
          "height": 541
        }
      },
      "source": [
        "import matplotlib.pyplot as plt\n",
        "\n",
        "def plot_graphs(history, string):\n",
        "  plt.plot(history.history[string])\n",
        "  plt.plot(history.history[\"val_\"+string])\n",
        "  plt.xlabel(\"Epoch\")\n",
        "  plt.ylabel(string)\n",
        "  plt.legend([string, \"val_\"+string])\n",
        "  plt.show()\n",
        "\n",
        "plot_graphs(history, \"accuracy\")\n",
        "plot_graphs(history,\"loss\")"
      ],
      "execution_count": 0,
      "outputs": [
        {
          "output_type": "display_data",
          "data": {
            "image/png": "[encoded data removed]",
            "text/plain": [
              "<Figure size 432x288 with 1 Axes>"
            ]
          },
          "metadata": {
            "tags": [],
            "needs_background": "light"
          }
        },
        {
          "output_type": "display_data",
          "data": {
            "image/png": "[encoded data removed]",
            "text/plain": [
              "<Figure size 432x288 with 1 Axes>"
            ]
          },
          "metadata": {
            "tags": [],
            "needs_background": "light"
          }
        }
      ]
    },
    {
      "cell_type": "code",
      "metadata": {
        "id": "LEzKEK8u47o-",
        "colab_type": "code",
        "colab": {}
      },
      "source": [
        ""
      ],
      "execution_count": 0,
      "outputs": []
    }
  ]
}